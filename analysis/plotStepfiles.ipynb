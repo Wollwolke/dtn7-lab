{
 "cells": [
  {
   "attachments": {},
   "cell_type": "markdown",
   "metadata": {},
   "source": [
    "Defines and imports"
   ]
  },
  {
   "cell_type": "code",
   "execution_count": null,
   "metadata": {
    "tags": []
   },
   "outputs": [],
   "source": [
    "import plotly.graph_objects as go\n",
    "\n",
    "PATH = \"../../ros_ws/src/dtn_sim/scripts/test.step\"\n"
   ]
  },
  {
   "attachments": {},
   "cell_type": "markdown",
   "metadata": {},
   "source": [
    "Parsing dtnd stats"
   ]
  },
  {
   "cell_type": "code",
   "execution_count": null,
   "metadata": {},
   "outputs": [],
   "source": [
    "stepsDir = {\"drone\": [], \"robot\": []}\n",
    "\n",
    "\n",
    "def loadStepsFile(filePath):\n",
    "    global stepsDir\n",
    "\n",
    "    with open(filePath, \"r\") as file:\n",
    "        data = file.readlines()\n",
    "    \n",
    "    for line in data:\n",
    "        if \"robot\" in line:\n",
    "            pos = [float(value) for value in line.split()[1::]]\n",
    "            stepsDir[\"robot\"].append(pos)\n",
    "        if \"drone\" in line:\n",
    "            pos = [float(value) for value in line.split()[1::]]\n",
    "            stepsDir[\"drone\"].append(pos)\n",
    "\n",
    "loadStepsFile(PATH)\n"
   ]
  },
  {
   "attachments": {},
   "cell_type": "markdown",
   "metadata": {},
   "source": [
    "DTN Graphs"
   ]
  },
  {
   "cell_type": "code",
   "execution_count": null,
   "metadata": {},
   "outputs": [],
   "source": [
    "def plotStepFile():\n",
    "    global stepsDir\n",
    "\n",
    "    rx = []\n",
    "    ry = []\n",
    "    dx = []\n",
    "    dy = []\n",
    "    for point in stepsDir[\"robot\"]:\n",
    "        rx.append(point[0])\n",
    "        ry.append(point[1])\n",
    "    for point in stepsDir[\"drone\"]:\n",
    "        dx.append(point[0])\n",
    "        dy.append(point[1])\n",
    "\n",
    "    fig = go.Figure()\n",
    "    fig.update_xaxes(title_text=\"X Coordinate [m]\")\n",
    "    fig.update_yaxes(title_text=\"Y Coordinate [m]\", scaleanchor=\"x\", scaleratio=1)\n",
    "    fig.update_layout(title_text=\"Robot & Drone Path\", width=1000, height=1000)\n",
    "    fig.add_trace(\n",
    "        go.Scatter(\n",
    "            x=rx,\n",
    "            y=ry,\n",
    "            mode=\"lines+markers\",\n",
    "            name=\"robot\"\n",
    "        ),\n",
    "    )\n",
    "    fig.add_trace(\n",
    "        go.Scatter(\n",
    "            x=dx,\n",
    "            y=dy,\n",
    "            mode=\"lines+markers\",\n",
    "            name=\"drone\"\n",
    "        ),\n",
    "    )\n",
    "    fig.add_trace(\n",
    "        go.Scatter(\n",
    "            x=[0],\n",
    "            y=[0],\n",
    "            mode=\"markers\",\n",
    "            name=\"base\",\n",
    "            marker_size=15,\n",
    "            marker_color=\"LightSeaGreen\"\n",
    "        ),\n",
    "    )\n",
    "    fig.add_shape(\n",
    "        type=\"circle\",\n",
    "        xref=\"x\", yref=\"y\",\n",
    "        x0=0 - 50, y0=0 - 50, x1=0 + 50, y1=0 + 50,\n",
    "        line_color=\"LightSeaGreen\",\n",
    "    )\n",
    "    fig.add_annotation(\n",
    "        x=0,\n",
    "        y=53,\n",
    "        text=\"WiFi Range\",\n",
    "        font=dict(\n",
    "            size=16,\n",
    "            color=\"LightSeaGreen\"\n",
    "        ),\n",
    "        showarrow=False\n",
    "    )\n",
    "    fig.show()\n",
    "\n",
    "plotStepFile()"
   ]
  }
 ],
 "metadata": {
  "kernelspec": {
   "display_name": ".env",
   "language": "python",
   "name": "python3"
  },
  "language_info": {
   "codemirror_mode": {
    "name": "ipython",
    "version": 3
   },
   "file_extension": ".py",
   "mimetype": "text/x-python",
   "name": "python",
   "nbconvert_exporter": "python",
   "pygments_lexer": "ipython3",
   "version": "3.11.1"
  },
  "orig_nbformat": 4
 },
 "nbformat": 4,
 "nbformat_minor": 2
}
