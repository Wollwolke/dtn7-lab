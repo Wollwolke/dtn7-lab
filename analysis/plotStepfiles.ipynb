{
 "cells": [
  {
   "attachments": {},
   "cell_type": "markdown",
   "metadata": {},
   "source": [
    "Defines and imports"
   ]
  },
  {
   "cell_type": "code",
   "execution_count": null,
   "metadata": {
    "tags": []
   },
   "outputs": [],
   "source": [
    "import plotly.graph_objects as go\n",
    "from collections import defaultdict\n",
    "\n",
    "PATH = \"../shared/data/follow.step\"\n"
   ]
  },
  {
   "attachments": {},
   "cell_type": "markdown",
   "metadata": {},
   "source": [
    "Parsing dtnd stats"
   ]
  },
  {
   "cell_type": "code",
   "execution_count": null,
   "metadata": {},
   "outputs": [],
   "source": [
    "stepsDir = defaultdict(lambda: {\"x\": [], \"y\": []})\n",
    "\n",
    "def loadStepsFile(filePath):\n",
    "    global stepsDir\n",
    "\n",
    "    with open(filePath, \"r\") as file:\n",
    "        data = file.readlines()\n",
    "    \n",
    "    for line in data:\n",
    "        if not line or line.startswith(\"#\"):\n",
    "            continue\n",
    "        if line.startswith(\"%\"):\n",
    "            time_ = float(line[1::].strip())\n",
    "        else:\n",
    "            node, x, y = line.split()\n",
    "            stepsDir[node][\"x\"].append(float(x))\n",
    "            stepsDir[node][\"y\"].append(float(y))\n",
    "\n",
    "loadStepsFile(PATH)\n"
   ]
  },
  {
   "attachments": {},
   "cell_type": "markdown",
   "metadata": {},
   "source": [
    "DTN Graphs"
   ]
  },
  {
   "cell_type": "code",
   "execution_count": null,
   "metadata": {},
   "outputs": [],
   "source": [
    "def plotStepFile():\n",
    "    global stepsDir\n",
    "\n",
    "    fig = go.Figure()\n",
    "    fig.update_xaxes(title_text=\"X Coordinate [m]\")\n",
    "    fig.update_yaxes(title_text=\"Y Coordinate [m]\", scaleanchor=\"x\", scaleratio=1)\n",
    "    fig.update_layout(title_text=\"Robot & Drone Path\", width=1000, height=1000)\n",
    "\n",
    "    colors = [\"#ab63fa\", \"#00cc96\", \"#ffa15a\"]\n",
    "    colorCnt = 1\n",
    "\n",
    "    for node, values in stepsDir.items():\n",
    "        color = colors[0] if node == \"robot\" else colors[colorCnt]\n",
    "        fig.add_trace(\n",
    "            go.Scatter(\n",
    "                x=values[\"x\"],\n",
    "                y=values[\"y\"],\n",
    "                mode=\"lines+markers\",\n",
    "                line=dict(color=color),\n",
    "                name=node\n",
    "            ),\n",
    "        )\n",
    "        if node != \"robot\":\n",
    "            colorCnt += 1\n",
    "\n",
    "    fig.add_trace(\n",
    "        go.Scatter(\n",
    "            x=[0],\n",
    "            y=[0],\n",
    "            mode=\"markers\",\n",
    "            name=\"base\",\n",
    "            marker_size=10,\n",
    "            marker_color=\"Blue\"\n",
    "        ),\n",
    "    )\n",
    "    fig.add_shape(\n",
    "        type=\"circle\",\n",
    "        xref=\"x\", yref=\"y\",\n",
    "        x0=0 - 50, y0=0 - 50, x1=0 + 50, y1=0 + 50,\n",
    "        line_color=\"Blue\",\n",
    "    )\n",
    "    fig.add_annotation(\n",
    "        x=0,\n",
    "        y=53,\n",
    "        text=\"WiFi Range\",\n",
    "        font=dict(\n",
    "            size=16,\n",
    "            color=\"Blue\"\n",
    "        ),\n",
    "        showarrow=False\n",
    "    )\n",
    "    fig.show()\n",
    "\n",
    "plotStepFile()"
   ]
  }
 ],
 "metadata": {
  "kernelspec": {
   "display_name": ".env",
   "language": "python",
   "name": "python3"
  },
  "language_info": {
   "codemirror_mode": {
    "name": "ipython",
    "version": 3
   },
   "file_extension": ".py",
   "mimetype": "text/x-python",
   "name": "python",
   "nbconvert_exporter": "python",
   "pygments_lexer": "ipython3",
   "version": "3.11.1"
  },
  "orig_nbformat": 4
 },
 "nbformat": 4,
 "nbformat_minor": 2
}
